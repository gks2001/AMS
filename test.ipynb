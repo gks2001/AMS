{
 "metadata": {
  "language_info": {
   "codemirror_mode": {
    "name": "ipython",
    "version": 3
   },
   "file_extension": ".py",
   "mimetype": "text/x-python",
   "name": "python",
   "nbconvert_exporter": "python",
   "pygments_lexer": "ipython3",
   "version": "3.7.6-final"
  },
  "orig_nbformat": 2,
  "kernelspec": {
   "name": "Python 3.7.6 64-bit (conda)",
   "display_name": "Python 3.7.6 64-bit (conda)",
   "metadata": {
    "interpreter": {
     "hash": "cc5f70855ac006f3de45a3cc3b9e7d8d53845e50458809cb162b0174266dec97"
    }
   }
  }
 },
 "nbformat": 4,
 "nbformat_minor": 2,
 "cells": [
  {
   "cell_type": "code",
   "execution_count": null,
   "metadata": {},
   "outputs": [],
   "source": [
    "date = \"1/12/2020\"\n",
    "x = date.split(\"/\", -1)\n",
    "print(x)"
   ]
  },
  {
   "cell_type": "code",
   "execution_count": null,
   "metadata": {},
   "outputs": [],
   "source": [
    "s = \"123\"\n",
    "i = int(s)\n",
    "print(type(s))"
   ]
  },
  {
   "cell_type": "code",
   "execution_count": null,
   "metadata": {},
   "outputs": [],
   "source": [
    "# Encryption"
   ]
  },
  {
   "cell_type": "code",
   "execution_count": null,
   "metadata": {},
   "outputs": [],
   "source": [
    "!python -m pip install cryptography"
   ]
  },
  {
   "cell_type": "code",
   "execution_count": 32,
   "metadata": {},
   "outputs": [
    {
     "output_type": "stream",
     "name": "stdout",
     "text": [
      "b'yu3e3_1cj0y_fri1-XrAdhsKFzcP8WConqbi7W6tR9k='\n"
     ]
    }
   ],
   "source": [
    "from cryptography.fernet import Fernet\n",
    "\n",
    "def write_key():\n",
    "    key = Fernet.generate_key()\n",
    "    with open(\"k.key\", \"wb\") as key_file:\n",
    "        key_file.write(key)\n",
    "        print(key)\n",
    "\n",
    "# write_key()"
   ]
  },
  {
   "cell_type": "code",
   "execution_count": 33,
   "metadata": {},
   "outputs": [],
   "source": [
    "def load_key():\n",
    "    return open(\"k.key\", \"rb\").read()"
   ]
  },
  {
   "cell_type": "code",
   "execution_count": 34,
   "metadata": {},
   "outputs": [
    {
     "output_type": "stream",
     "name": "stdout",
     "text": [
      "b'gAAAAABfq1jjWBrbs1QSWZXWdADa77gGY4hrj06AQ5fegxV-HUCzkE2zQvvIHYjker1T0wZzD63h6hddDHD9In1fvrP3g8Npsg=='\n"
     ]
    }
   ],
   "source": [
    "key = load_key()\n",
    "msg = \"hello\"\n",
    "msg = msg.encode()\n",
    "f = Fernet(key)\n",
    "e_msg = f.encrypt(msg)\n",
    "print(e_msg)"
   ]
  },
  {
   "cell_type": "code",
   "execution_count": 35,
   "metadata": {},
   "outputs": [
    {
     "output_type": "stream",
     "name": "stdout",
     "text": [
      "b'hello'\n"
     ]
    }
   ],
   "source": [
    "d_e_msg = f.decrypt(e_msg)\n",
    "print(d_e_msg)"
   ]
  },
  {
   "cell_type": "code",
   "execution_count": 47,
   "metadata": {},
   "outputs": [
    {
     "output_type": "stream",
     "name": "stdout",
     "text": [
      "The byte equivalent of hash is : b'I\\xf6\\x8a\\\\\\x84\\x93\\xec,\\x0b\\xf4\\x89\\x82\\x1c!\\xfc;'\n"
     ]
    }
   ],
   "source": [
    "import hashlib \n",
    "\n",
    "msg = \"hi\"\n",
    "result = hashlib.md5(msg.encode())                              # md5\n",
    "print(\"The byte equivalent of hash is : \", end =\"\") \n",
    "print(result.digest()) "
   ]
  },
  {
   "cell_type": "code",
   "execution_count": 51,
   "metadata": {},
   "outputs": [
    {
     "output_type": "stream",
     "name": "stdout",
     "text": [
      "1a15bca3e4ed3ab82367c6c434f86c41040bdac577fa1c2de62c3be0\n"
     ]
    }
   ],
   "source": [
    "r = hashlib.sha224(msg.encode()).hexdigest()            # sha224    # hex\n",
    "print(r)"
   ]
  },
  {
   "cell_type": "code",
   "execution_count": 52,
   "metadata": {},
   "outputs": [
    {
     "output_type": "stream",
     "name": "stdout",
     "text": [
      "{'shake_256', 'sha3_256', 'sha512', 'blake2b', 'sha3_384', 'sha1', 'md5', 'sha224', 'sha256', 'sha3_224', 'blake2s', 'sha384', 'sha3_512', 'shake_128'}\n"
     ]
    }
   ],
   "source": [
    "print(hashlib.algorithms_available)"
   ]
  }
 ]
}